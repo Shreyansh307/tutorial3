{
 "cells": [
  {
   "cell_type": "code",
   "execution_count": 5,
   "id": "cb86b478-bd25-4932-8dd6-cbd4b8d381c1",
   "metadata": {},
   "outputs": [
    {
     "name": "stdout",
     "output_type": "stream",
     "text": [
      "[[1 4]\n",
      " [2 5]\n",
      " [3 6]]\n"
     ]
    }
   ],
   "source": [
    "#stack\n",
    "import numpy as np\n",
    "arr1=np.array([1,2,3])\n",
    "arr2=np.array([4,5,6])\n",
    "arr=np.stack((arr1,arr2),axis=1)\n",
    "print(arr)\n",
    "               "
   ]
  },
  {
   "cell_type": "code",
   "execution_count": 7,
   "id": "5d8971d7-a99c-45e8-8a99-c7867bce2796",
   "metadata": {},
   "outputs": [
    {
     "data": {
      "text/plain": [
       "[array([1, 2]), array([3, 4]), array([5, 6])]"
      ]
     },
     "execution_count": 7,
     "metadata": {},
     "output_type": "execute_result"
    }
   ],
   "source": [
    "#array split\n",
    "import numpy as np\n",
    "arr=np.array([1,2,3,4,5,6])\n",
    "newarr=np.array_split(arr,3)\n",
    "newarr"
   ]
  },
  {
   "cell_type": "code",
   "execution_count": 25,
   "id": "31ed286f-ee67-4d76-aced-e7a599d7d768",
   "metadata": {},
   "outputs": [
    {
     "name": "stdout",
     "output_type": "stream",
     "text": [
      "[1 2 3 4 5 6]\n"
     ]
    }
   ],
   "source": [
    "#hstack\n",
    "import numpy as np\n",
    "arr1=np.array([1,2,3])\n",
    "arr2=np.array([4,5,6])\n",
    "arr=np.hstack((arr1,arr2))\n",
    "print(arr)\n"
   ]
  },
  {
   "cell_type": "code",
   "execution_count": 11,
   "id": "d8db7c8b-601b-4ef8-a7d0-c9bcef0ddff8",
   "metadata": {},
   "outputs": [
    {
     "data": {
      "text/plain": [
       "[array([[1, 2, 3, 4]]), array([[5, 8, 9, 1]]), array([[2, 4, 5, 7]])]"
      ]
     },
     "execution_count": 11,
     "metadata": {},
     "output_type": "execute_result"
    }
   ],
   "source": [
    "#splitting 2d array\n",
    "import numpy as np\n",
    "arr=np.array([[1,2,3,4],[5,8,9,1],[2,4,5,7]])\n",
    "newarr=np.split(arr,3)\n",
    "newarr"
   ]
  },
  {
   "cell_type": "code",
   "execution_count": 15,
   "id": "576b8563-51fd-42e4-8e27-4d8a160b4bf1",
   "metadata": {
    "scrolled": true
   },
   "outputs": [
    {
     "data": {
      "text/plain": [
       "[array([[1, 2],\n",
       "        [5, 8],\n",
       "        [2, 4]]),\n",
       " array([[3, 4],\n",
       "        [9, 1],\n",
       "        [5, 7]])]"
      ]
     },
     "execution_count": 15,
     "metadata": {},
     "output_type": "execute_result"
    }
   ],
   "source": [
    "#hsplit 2d array\n",
    "import numpy as np\n",
    "arr=np.array([[1,2,3,4],[5,8,9,1],[2,4,5,7]])\n",
    "newarr=np.hsplit(arr,2)\n",
    "newarr"
   ]
  },
  {
   "cell_type": "code",
   "execution_count": 17,
   "id": "1ed07c24-bd4f-4e34-93a1-2f0602e0d667",
   "metadata": {},
   "outputs": [
    {
     "data": {
      "text/plain": [
       "[array([[1, 2, 3, 4]]), array([[5, 8, 9, 1]]), array([[2, 4, 5, 7]])]"
      ]
     },
     "execution_count": 17,
     "metadata": {},
     "output_type": "execute_result"
    }
   ],
   "source": [
    "#vsplit 2d array\n",
    "import numpy as np\n",
    "arr=np.array([[1,2,3,4],[5,8,9,1],[2,4,5,7]])\n",
    "newarr=np.vsplit(arr,3)\n",
    "newarr"
   ]
  },
  {
   "cell_type": "code",
   "execution_count": 43,
   "id": "f862c6b7-7224-424a-92ad-ee89915a0e0b",
   "metadata": {},
   "outputs": [
    {
     "ename": "SyntaxError",
     "evalue": "invalid syntax (3451506581.py, line 1)",
     "output_type": "error",
     "traceback": [
      "\u001b[0;36m  Cell \u001b[0;32mIn[43], line 1\u001b[0;36m\u001b[0m\n\u001b[0;31m    import numpy linalg as LA\u001b[0m\n\u001b[0m                 ^\u001b[0m\n\u001b[0;31mSyntaxError\u001b[0m\u001b[0;31m:\u001b[0m invalid syntax\n"
     ]
    }
   ],
   "source": [
    "import numpy linalg as LA \n",
    "A = np.array([[1,2,3],[3,2,1],[1,0,-1]]) \n",
    "w, v = LA.eig(A) \n",
    "print(w) \n"
   ]
  },
  {
   "cell_type": "code",
   "execution_count": null,
   "id": "71388b32-1d5b-4476-9ee9-128d32c53892",
   "metadata": {},
   "outputs": [],
   "source": []
  },
  {
   "cell_type": "code",
   "execution_count": null,
   "id": "775fd38a-051a-4945-8d35-6b319a791c33",
   "metadata": {},
   "outputs": [],
   "source": []
  }
 ],
 "metadata": {
  "kernelspec": {
   "display_name": "Python 3 (ipykernel)",
   "language": "python",
   "name": "python3"
  },
  "language_info": {
   "codemirror_mode": {
    "name": "ipython",
    "version": 3
   },
   "file_extension": ".py",
   "mimetype": "text/x-python",
   "name": "python",
   "nbconvert_exporter": "python",
   "pygments_lexer": "ipython3",
   "version": "3.12.4"
  }
 },
 "nbformat": 4,
 "nbformat_minor": 5
}
